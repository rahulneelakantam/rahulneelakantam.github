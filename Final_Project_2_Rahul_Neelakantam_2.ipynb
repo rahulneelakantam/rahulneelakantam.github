{
  "cells": [
    {
      "cell_type": "markdown",
      "metadata": {
        "id": "hEbPsid2vgke"
      },
      "source": [
        "**SET PATH**"
      ]
    },
    {
      "cell_type": "code",
      "execution_count": 3,
      "metadata": {
        "id": "mRFoMmwskniZ"
      },
      "outputs": [],
      "source": [
        " # Put file path as a string here\n",
        "\n",
        "CIFAR_DIR = 'CIFAR_10_DATA/'"
      ]
    },
    {
      "cell_type": "code",
      "execution_count": 4,
      "metadata": {
        "id": "YGRUEvsfko6m"
      },
      "outputs": [],
      "source": [
        "def unpickle(file):\n",
        "    import pickle\n",
        "    with open(file, 'rb') as fo:\n",
        "        cifar_dict = pickle.load(fo, encoding='bytes')\n",
        "    return cifar_dict"
      ]
    },
    {
      "cell_type": "markdown",
      "metadata": {
        "id": "nOA6B3ylvzby"
      },
      "source": [
        "**LOAD THE DATASET**"
      ]
    },
    {
      "cell_type": "code",
      "execution_count": 5,
      "metadata": {
        "colab": {
          "base_uri": "https://localhost:8080/"
        },
        "id": "Sw56RThdtP2O",
        "outputId": "618a1d4a-61f0-4bcb-e991-9df68acee415"
      },
      "outputs": [
        {
          "output_type": "stream",
          "name": "stdout",
          "text": [
            "Drive already mounted at /content/drive; to attempt to forcibly remount, call drive.mount(\"/content/drive\", force_remount=True).\n"
          ]
        }
      ],
      "source": [
        "from google.colab import drive\n",
        "drive.mount('/content/drive')"
      ]
    },
    {
      "cell_type": "code",
      "execution_count": 6,
      "metadata": {
        "id": "dg1TDcr8uBEM"
      },
      "outputs": [],
      "source": [
        "CIFAR_DIR = 'drive/MyDrive/ADTA 5550/'"
      ]
    },
    {
      "cell_type": "code",
      "execution_count": 7,
      "metadata": {
        "id": "Pz1FGuhYkslL"
      },
      "outputs": [],
      "source": [
        "dirs = ['batches.meta','data_batch_1','data_batch_2','data_batch_3','data_batch_4','data_batch_5','test_batch']\n",
        "\n",
        "all_data = [0,1,2,3,4,5,6]\n",
        "\n",
        "for i,direc in zip(all_data,dirs):\n",
        "    all_data[i] = unpickle(CIFAR_DIR+direc)"
      ]
    },
    {
      "cell_type": "code",
      "execution_count": 8,
      "metadata": {
        "id": "Ou5orXicku3l"
      },
      "outputs": [],
      "source": [
        "batch_meta = all_data[0]\n",
        "data_batch1 = all_data[1]\n",
        "data_batch2 = all_data[2]\n",
        "data_batch3 = all_data[3]\n",
        "data_batch4 = all_data[4]\n",
        "data_batch5 = all_data[5]\n",
        "test_batch = all_data[6]"
      ]
    },
    {
      "cell_type": "markdown",
      "metadata": {
        "id": "BUo3uQC7wFW_"
      },
      "source": [
        "**Examples of images using matplotlib**"
      ]
    },
    {
      "cell_type": "code",
      "execution_count": 9,
      "metadata": {
        "id": "1f2_RL1zwEZl"
      },
      "outputs": [],
      "source": [
        "import matplotlib.pyplot as plt\n",
        "%matplotlib inline\n",
        "\n",
        "import numpy as np"
      ]
    },
    {
      "cell_type": "code",
      "execution_count": 10,
      "metadata": {
        "id": "5oxnI6KqwOfp"
      },
      "outputs": [],
      "source": [
        "X = data_batch1[b\"data\"] "
      ]
    },
    {
      "cell_type": "code",
      "execution_count": 11,
      "metadata": {
        "id": "mpvYR-KqwPV6"
      },
      "outputs": [],
      "source": [
        "X = X.reshape(10000, 3, 32, 32).transpose(0,2,3,1).astype(\"uint8\")"
      ]
    },
    {
      "cell_type": "code",
      "execution_count": 12,
      "metadata": {
        "colab": {
          "base_uri": "https://localhost:8080/"
        },
        "id": "kyy0vFD_wSGe",
        "outputId": "d6e79099-1724-466f-ab10-61757110b7f0"
      },
      "outputs": [
        {
          "output_type": "execute_result",
          "data": {
            "text/plain": [
              "255"
            ]
          },
          "metadata": {},
          "execution_count": 12
        }
      ],
      "source": [
        "X[0].max()"
      ]
    },
    {
      "cell_type": "code",
      "execution_count": 13,
      "metadata": {
        "colab": {
          "base_uri": "https://localhost:8080/"
        },
        "id": "kjapdBppwVG9",
        "outputId": "c02359fd-7299-4ea2-b028-4f908ec2bec2"
      },
      "outputs": [
        {
          "output_type": "execute_result",
          "data": {
            "text/plain": [
              "1.0"
            ]
          },
          "metadata": {},
          "execution_count": 13
        }
      ],
      "source": [
        "(X[0]/255).max()"
      ]
    },
    {
      "cell_type": "code",
      "execution_count": 14,
      "metadata": {
        "colab": {
          "base_uri": "https://localhost:8080/",
          "height": 447
        },
        "id": "T04I9M-OwW9N",
        "outputId": "bf65cb23-db8e-485c-fb8b-92094374f7a1"
      },
      "outputs": [
        {
          "output_type": "execute_result",
          "data": {
            "text/plain": [
              "<matplotlib.image.AxesImage at 0x7fd5a573bca0>"
            ]
          },
          "metadata": {},
          "execution_count": 14
        },
        {
          "output_type": "display_data",
          "data": {
            "text/plain": [
              "<Figure size 640x480 with 1 Axes>"
            ],
            "image/png": "[encoded data removed]"
          },
          "metadata": {}
        }
      ],
      "source": [
        "plt.imshow(X[0])"
      ]
    },
    {
      "cell_type": "code",
      "execution_count": 15,
      "metadata": {
        "colab": {
          "base_uri": "https://localhost:8080/",
          "height": 447
        },
        "id": "i5aVbll4wZxZ",
        "outputId": "2cbf646c-a402-4175-d1c3-40b9032d92ba"
      },
      "outputs": [
        {
          "output_type": "execute_result",
          "data": {
            "text/plain": [
              "<matplotlib.image.AxesImage at 0x7fd5957f0250>"
            ]
          },
          "metadata": {},
          "execution_count": 15
        },
        {
          "output_type": "display_data",
          "data": {
            "text/plain": [
              "<Figure size 640x480 with 1 Axes>"
            ],
            "image/png": "[encoded data removed]"
          },
          "metadata": {}
        }
      ],
      "source": [
        "plt.imshow(X[2])"
      ]
    },
    {
      "cell_type": "code",
      "execution_count": 16,
      "metadata": {
        "colab": {
          "base_uri": "https://localhost:8080/",
          "height": 447
        },
        "id": "CY2I8kjTwcKi",
        "outputId": "815fecf7-dc62-4976-c9bf-aa6e54f025da"
      },
      "outputs": [
        {
          "output_type": "execute_result",
          "data": {
            "text/plain": [
              "<matplotlib.image.AxesImage at 0x7fd5956667d0>"
            ]
          },
          "metadata": {},
          "execution_count": 16
        },
        {
          "output_type": "display_data",
          "data": {
            "text/plain": [
              "<Figure size 640x480 with 1 Axes>"
            ],
            "image/png": "[encoded data removed]"
          },
          "metadata": {}
        }
      ],
      "source": [
        "plt.imshow(X[3])"
      ]
    },
    {
      "cell_type": "markdown",
      "metadata": {
        "id": "rWzR8oae0iUL"
      },
      "source": [
        "**Encode labels into One-Hot**"
      ]
    },
    {
      "cell_type": "code",
      "execution_count": 17,
      "metadata": {
        "id": "DoVyBJGZ0dGS"
      },
      "outputs": [],
      "source": [
        "def one_hot_encode(vec, vals=10):\n",
        "    '''\n",
        "    For use to one-hot encode the 10- possible labels\n",
        "    '''\n",
        "    n = len(vec)\n",
        "    out = np.zeros((n, vals))\n",
        "    out[range(n), vec] = 1\n",
        "    return out"
      ]
    },
    {
      "cell_type": "markdown",
      "metadata": {
        "id": "c9_y2Cj50yeK"
      },
      "source": [
        "**Setting up the image data for first conv layer**"
      ]
    },
    {
      "cell_type": "code",
      "execution_count": 18,
      "metadata": {
        "id": "RUfTuygf0uDt"
      },
      "outputs": [],
      "source": [
        "class CifarHelper():\n",
        "    \n",
        "    def __init__(self):\n",
        "        self.i = 0\n",
        "        \n",
        "        self.all_train_batches = [data_batch1,data_batch2,data_batch3,data_batch4,data_batch5]\n",
        "        self.test_batch = [test_batch]\n",
        "        \n",
        "        self.training_images = None\n",
        "        self.training_labels = None\n",
        "        \n",
        "        self.test_images = None\n",
        "        self.test_labels = None\n",
        "    \n",
        "    def set_up_images(self):\n",
        "        \n",
        "        print(\"Setting Up Training Images and Labels\")\n",
        "        \n",
        "        self.training_images = np.vstack([d[b\"data\"] for d in self.all_train_batches])\n",
        "        train_len = len(self.training_images)\n",
        "        \n",
        "        self.training_images = self.training_images.reshape(train_len,3,32,32).transpose(0,2,3,1)/255\n",
        "        self.training_labels = one_hot_encode(np.hstack([d[b\"labels\"] for d in self.all_train_batches]), 10)\n",
        "        \n",
        "        print(\"Setting Up Test Images and Labels\")\n",
        "        \n",
        "        self.test_images = np.vstack([d[b\"data\"] for d in self.test_batch])\n",
        "        test_len = len(self.test_images)\n",
        "        \n",
        "        self.test_images = self.test_images.reshape(test_len,3,32,32).transpose(0,2,3,1)/255\n",
        "        self.test_labels = one_hot_encode(np.hstack([d[b\"labels\"] for d in self.test_batch]), 10)\n",
        "\n",
        "        \n",
        "    def next_batch(self, batch_size):\n",
        "        x = self.training_images[self.i:self.i+batch_size].reshape(100,32,32,3)\n",
        "        y = self.training_labels[self.i:self.i+batch_size]\n",
        "        self.i = (self.i + batch_size) % len(self.training_images)\n",
        "        return x, y"
      ]
    },
    {
      "cell_type": "markdown",
      "metadata": {
        "id": "b1Bruh3J1Fh8"
      },
      "source": [
        "**Calling CifarHelper.set_up_images()** "
      ]
    },
    {
      "cell_type": "code",
      "execution_count": 19,
      "metadata": {
        "colab": {
          "base_uri": "https://localhost:8080/"
        },
        "id": "TRgVVG921LwR",
        "outputId": "4d4d0a93-9bcc-4694-806b-7ffe2a6d1ab8"
      },
      "outputs": [
        {
          "output_type": "stream",
          "name": "stdout",
          "text": [
            "Setting Up Training Images and Labels\n",
            "Setting Up Test Images and Labels\n"
          ]
        }
      ],
      "source": [
        "# Before Your tf.Session run these two lines\n",
        "ch = CifarHelper()\n",
        "ch.set_up_images()\n",
        "\n",
        "# During your session to grab the next batch use this line\n",
        "# (Just like we did for mnist.train.next_batch)\n",
        "# batch = ch.next_batch(100)"
      ]
    },
    {
      "cell_type": "markdown",
      "metadata": {
        "id": "DpkQKyNT1Rmi"
      },
      "source": [
        "**Building Convolutional Neural Network**"
      ]
    },
    {
      "cell_type": "code",
      "execution_count": 20,
      "metadata": {
        "colab": {
          "base_uri": "https://localhost:8080/"
        },
        "id": "2dGsJifYr2mk",
        "outputId": "88307832-6798-4058-caa5-9bf0eefb9fb7"
      },
      "outputs": [
        {
          "output_type": "stream",
          "name": "stderr",
          "text": [
            "WARNING:tensorflow:From /usr/local/lib/python3.10/dist-packages/tensorflow/python/compat/v2_compat.py:107: disable_resource_variables (from tensorflow.python.ops.variable_scope) is deprecated and will be removed in a future version.\n",
            "Instructions for updating:\n",
            "non-resource variables are not supported in the long term\n"
          ]
        }
      ],
      "source": [
        "import tensorflow.compat.v1 as tf\n",
        "tf.disable_v2_behavior()"
      ]
    },
    {
      "cell_type": "markdown",
      "metadata": {
        "id": "qnYud7vm1l3e"
      },
      "source": [
        "**Creating Placeholders for inputs x and y**"
      ]
    },
    {
      "cell_type": "code",
      "execution_count": 21,
      "metadata": {
        "id": "NLgVpq_JimUa"
      },
      "outputs": [],
      "source": [
        "# PLACEHOLDER\n",
        "\n",
        "# Create a placeholder for the inputs data: x\n",
        "# x: a 2D array\n",
        "# x: a placeholder that can hold any number of rows/record\n",
        "\n",
        "\n",
        "# Create a placeholder for a tensor with shape [None, 10]\n",
        "x = tf.placeholder(tf.float32, shape=[None, 32, 32, 3])\n",
        "import warnings\n",
        "# Ignore all warnings\n",
        "warnings.filterwarnings(\"ignore\")\n",
        "# x = tf.placeholder(tf.float32, shape=[None, 32, 32, 3])"
      ]
    },
    {
      "cell_type": "code",
      "execution_count": 22,
      "metadata": {
        "id": "Oaat5M931r8D"
      },
      "outputs": [],
      "source": [
        "# PLACEHOLDER\n",
        "\n",
        "# Create a placeholder for the labels of the inputs data: y_true\n",
        "# y_true: a 2D array\n",
        "# y_true: Can hold any number of rows/records\n",
        "\n",
        "y_true = tf.placeholder(tf.float32, [None, 10])"
      ]
    },
    {
      "cell_type": "code",
      "execution_count": 23,
      "metadata": {
        "id": "GBQsRy7p1wSn"
      },
      "outputs": [],
      "source": [
        "# No need to reshape the data \n",
        "# DO NOTHING -- DON'T NEED TO RESHAPE - DATA IS ALREADY IN GOOD SHAPE TO BE FED INTO 1ST CONVOLUTION LAYER"
      ]
    },
    {
      "cell_type": "markdown",
      "metadata": {
        "id": "q9PtCZ661-bQ"
      },
      "source": [
        "**Train and Test CNN model on CIFAR_10 dataset**"
      ]
    },
    {
      "cell_type": "code",
      "execution_count": 24,
      "metadata": {
        "id": "pUbrUPVH2ax1"
      },
      "outputs": [],
      "source": [
        "# Define the CNN model architecture\n",
        "def cnn_model_fn(features, labels, mode):\n",
        "    # Input Layer\n",
        "    input_layer = tf.reshape(features, [-1, 32, 32, 3])\n",
        "\n",
        "    # Convolutional Layer #1\n",
        "    conv1 = tf.layers.conv2d(\n",
        "        inputs=input_layer,\n",
        "        filters=32,\n",
        "        kernel_size=[5, 5],\n",
        "        padding=\"same\",\n",
        "        activation=tf.nn.relu)\n",
        "\n",
        "    # Pooling Layer #1\n",
        "    pool1 = tf.layers.max_pooling2d(inputs=conv1, pool_size=[2, 2], strides=2)\n",
        "\n",
        "    # Convolutional Layer #2\n",
        "    conv2 = tf.layers.conv2d(\n",
        "        inputs=pool1,\n",
        "        filters=64,\n",
        "        kernel_size=[5, 5],\n",
        "        padding=\"same\",\n",
        "        activation=tf.nn.relu)\n",
        "\n",
        "    # Pooling Layer #2\n",
        "    pool2 = tf.layers.max_pooling2d(inputs=conv2, pool_size=[2, 2], strides=2)\n",
        "\n",
        "    # Dense Layer\n",
        "    pool2_flat = tf.reshape(pool2, [-1, 8 * 8 * 64])\n",
        "    dense = tf.layers.dense(inputs=pool2_flat, units=1024, activation=tf.nn.relu)\n",
        "    dropout = tf.layers.dropout(inputs=dense, rate=0.4, training=mode == tf.estimator.ModeKeys.TRAIN)\n",
        "\n",
        "    # Logits Layer\n",
        "    logits = tf.layers.dense(inputs=dropout, units=10)\n",
        "\n",
        "    predictions = {\n",
        "        \"classes\": tf.argmax(input=logits, axis=1),\n",
        "        \"probabilities\": tf.nn.softmax(logits, name=\"softmax_tensor\")\n",
        "    }\n",
        "\n",
        "    # Prediction Mode\n",
        "    if mode == tf.estimator.ModeKeys.PREDICT:\n",
        "        return tf.estimator.EstimatorSpec(mode=mode, predictions=predictions)\n",
        "\n",
        "    # Calculate Loss (for both TRAIN and EVAL modes)\n",
        "    loss = tf.losses.softmax_cross_entropy(onehot_labels=labels, logits=logits)\n",
        "\n",
        "    # Training Mode\n",
        "    if mode == tf.estimator.ModeKeys.TRAIN:\n",
        "        optimizer = tf.train.AdamOptimizer(learning_rate=0.001)\n",
        "        train_op = optimizer.minimize(loss=loss, global_step=tf.train.get_global_step())\n",
        "        return tf.estimator.EstimatorSpec(mode=mode, loss=loss, train_op=train_op)\n",
        "\n",
        "    # Evaluation Mode\n",
        "    eval_metric_ops = {\n",
        "        \"accuracy\": tf.metrics.accuracy(labels=tf.argmax(input=labels, axis=1), predictions=predictions[\"classes\"])\n",
        "    }\n",
        "    return tf.estimator.EstimatorSpec(mode=mode, loss=loss, eval_metric_ops=eval_metric_ops)\n"
      ]
    },
    {
      "cell_type": "code",
      "execution_count": 25,
      "metadata": {
        "colab": {
          "base_uri": "https://localhost:8080/"
        },
        "id": "6EHxBeom2hpN",
        "outputId": "fcaf76d2-b8fe-4631-986c-0d1660768c76"
      },
      "outputs": [
        {
          "output_type": "stream",
          "name": "stderr",
          "text": [
            "WARNING:tensorflow:From <ipython-input-25-02eeeeaca61c>:2: Estimator.__init__ (from tensorflow_estimator.python.estimator.estimator) is deprecated and will be removed in a future version.\n",
            "Instructions for updating:\n",
            "Use tf.keras instead.\n",
            "WARNING:tensorflow:From /usr/local/lib/python3.10/dist-packages/tensorflow_estimator/python/estimator/estimator.py:1842: RunConfig.__init__ (from tensorflow_estimator.python.estimator.run_config) is deprecated and will be removed in a future version.\n",
            "Instructions for updating:\n",
            "Use tf.keras instead.\n"
          ]
        }
      ],
      "source": [
        "# Create the Estimator\n",
        "cifar_classifier = tf.estimator.Estimator(\n",
        "    model_fn=cnn_model_fn, model_dir=\"/tmp/cifar_convnet_model\")\n",
        "\n"
      ]
    },
    {
      "cell_type": "code",
      "execution_count": 27,
      "metadata": {
        "colab": {
          "base_uri": "https://localhost:8080/"
        },
        "id": "DZYCRb_72mfV",
        "outputId": "dfe0f262-5c70-4fd4-c020-41b8e5bbe183"
      },
      "outputs": [
        {
          "output_type": "stream",
          "name": "stderr",
          "text": [
            "WARNING:tensorflow:From /usr/local/lib/python3.10/dist-packages/tensorflow/python/training/saver.py:1067: remove_checkpoint (from tensorflow.python.checkpoint.checkpoint_management) is deprecated and will be removed in a future version.\n",
            "Instructions for updating:\n",
            "Use standard file APIs to delete files with this prefix.\n",
            "WARNING:tensorflow:From /usr/local/lib/python3.10/dist-packages/tensorflow/python/training/evaluation.py:260: FinalOpsHook.__init__ (from tensorflow.python.training.basic_session_run_hooks) is deprecated and will be removed in a future version.\n",
            "Instructions for updating:\n",
            "Use tf.keras instead.\n"
          ]
        },
        {
          "output_type": "stream",
          "name": "stdout",
          "text": [
            "Step 1, Test Accuracy: 0.7175999879837036\n",
            "Step 2, Test Accuracy: 0.7099000215530396\n",
            "Step 3, Test Accuracy: 0.7084000110626221\n",
            "Step 4, Test Accuracy: 0.7141000032424927\n",
            "Step 5, Test Accuracy: 0.7193999886512756\n",
            "Step 6, Test Accuracy: 0.7275000214576721\n",
            "Step 7, Test Accuracy: 0.7149999737739563\n",
            "Step 8, Test Accuracy: 0.7121999859809875\n",
            "Step 9, Test Accuracy: 0.7246999740600586\n",
            "Step 10, Test Accuracy: 0.7196999788284302\n",
            "Step 11, Test Accuracy: 0.7156000137329102\n",
            "Step 12, Test Accuracy: 0.7245000004768372\n",
            "Step 13, Test Accuracy: 0.7125999927520752\n",
            "Step 14, Test Accuracy: 0.7135000228881836\n",
            "Step 15, Test Accuracy: 0.7159000039100647\n",
            "Step 16, Test Accuracy: 0.7095999717712402\n",
            "Step 17, Test Accuracy: 0.7279000282287598\n",
            "Step 18, Test Accuracy: 0.7253000140190125\n",
            "Step 19, Test Accuracy: 0.7243000268936157\n",
            "Step 20, Test Accuracy: 0.729200005531311\n"
          ]
        }
      ],
      "source": [
        "# Define the training input function\n",
        "warnings.filterwarnings(\"ignore\")\n",
        "train_input_fn = tf.estimator.inputs.numpy_input_fn(\n",
        "    x=ch.training_images,\n",
        "    y=ch.training_labels,\n",
        "    batch_size=100,\n",
        "    num_epochs=None,\n",
        "    shuffle=True)\n",
        "\n",
        "# Train the classifier for 2000 steps, testing after every 100 steps\n",
        "warnings.filterwarnings(\"ignore\")\n",
        "for step in range(1, 21):\n",
        "    cifar_classifier.train(\n",
        "        input_fn=train_input_fn,\n",
        "        steps=100)\n",
        "\n",
        "    # Test the classifier\n",
        "    # Evaluate the classifier on the test set after every 100 steps of training\n",
        "    if step % 1 == 0:\n",
        "        test_input_fn = tf.estimator.inputs.numpy_input_fn(\n",
        "            x=ch.test_images,\n",
        "            y=ch.test_labels,\n",
        "            num_epochs=1,\n",
        "            shuffle=False)\n",
        "        eval_results = cifar_classifier.evaluate(input_fn=test_input_fn)\n",
        "        print(f\"Step {step}, Test Accuracy: {eval_results['accuracy']}\")"
      ]
    },
    {
      "cell_type": "code",
      "execution_count": 28,
      "metadata": {
        "colab": {
          "base_uri": "https://localhost:8080/"
        },
        "id": "ggQREZBYio-7",
        "outputId": "be66879e-653e-4089-d408-56303a63382f"
      },
      "outputs": [
        {
          "output_type": "stream",
          "name": "stdout",
          "text": [
            "Test Accuracy: 0.729200005531311\n"
          ]
        }
      ],
      "source": [
        "# Define the test input function\n",
        "test_input_fn = tf.estimator.inputs.numpy_input_fn(\n",
        "    x=ch.test_images,\n",
        "    y=ch.test_labels,\n",
        "    num_epochs=1,\n",
        "    shuffle=False)\n",
        "\n",
        "# Evaluate the classifier on the test set\n",
        "eval_results = cifar_classifier.evaluate(input_fn=test_input_fn)\n",
        "print(f\"Test Accuracy: {eval_results['accuracy']}\")"
      ]
    }
  ],
  "metadata": {
    "colab": {
      "provenance": []
    },
    "kernelspec": {
      "display_name": "Python 3 (ipykernel)",
      "language": "python",
      "name": "python3"
    },
    "language_info": {
      "codemirror_mode": {
        "name": "ipython",
        "version": 3
      },
      "file_extension": ".py",
      "mimetype": "text/x-python",
      "name": "python",
      "nbconvert_exporter": "python",
      "pygments_lexer": "ipython3",
      "version": "3.9.13"
    }
  },
  "nbformat": 4,
  "nbformat_minor": 0
}